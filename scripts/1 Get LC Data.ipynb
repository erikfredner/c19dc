{
 "cells": [
  {
   "cell_type": "markdown",
   "metadata": {},
   "source": [
    "# Extracting C19 US literature records from LC books MDS\n",
    "\n",
    "## Setup\n",
    "\n",
    "1. Download the [MDSConnect \"Books All\" dataset](https://lccn.loc.gov/2020445551) from the Library of Congress. (The 2019 version was the most current as of this writing.)\n",
    "2. Extract the archive.\n",
    "3. Fill the path on your system to the directory `2020445551_2019` in the variable `PATH` below.\n",
    "4. Run the cells below to regnerate results."
   ]
  },
  {
   "cell_type": "code",
   "execution_count": null,
   "metadata": {},
   "outputs": [],
   "source": [
    "import sys\n",
    "\n",
    "sys.path.append(\"../src\")\n",
    "\n",
    "from data_collection import *"
   ]
  },
  {
   "cell_type": "code",
   "execution_count": null,
   "metadata": {},
   "outputs": [],
   "source": [
    "# Your local path here:\n",
    "PATH = \"/Users/erik/Documents/Corpora/Library of Congress Books All MARC records/2020445551_2019\""
   ]
  },
  {
   "cell_type": "code",
   "execution_count": null,
   "metadata": {},
   "outputs": [
    {
     "data": {
      "text/plain": [
       "True"
      ]
     },
     "execution_count": 3,
     "metadata": {},
     "output_type": "execute_result"
    }
   ],
   "source": [
    "xml_gzs = get_xml_gzs(PATH)\n",
    "\n",
    "# confirms appropriate number of files\n",
    "len(xml_gzs) == 46"
   ]
  },
  {
   "cell_type": "markdown",
   "metadata": {},
   "source": [
    "## Extraction from XML gzs\n",
    "\n",
    "Calls to `extract_subfield()` inside of `process_record()` can be customized to get any subfield of interest.\n",
    "\n",
    "For information on what is contained within these fields, see the [LC format for MARC bibliographic data](https://www.loc.gov/marc/bibliographic/).\n",
    "\n",
    "For example, [here is the section explaining the fields pertaining to place of publication](https://www.loc.gov/marc/bibliographic/bd260.html)."
   ]
  },
  {
   "cell_type": "code",
   "execution_count": null,
   "metadata": {},
   "outputs": [],
   "source": [
    "# `process_files()` extracts data from the XML records and pickles the results\n",
    "# FYI: It takes about 45 minutes to run on an M1 Mac.\n",
    "\n",
    "# Update output_dir with the path you want to use on your machine\n",
    "output_dir = \"/Users/erik/Desktop/LC_PS\"\n",
    "\n",
    "# Uncomment the line below to process the files and collect data\n",
    "# process_files(xml_gzs, output_dir)"
   ]
  },
  {
   "cell_type": "code",
   "execution_count": null,
   "metadata": {},
   "outputs": [
    {
     "data": {
      "text/plain": [
       "True"
      ]
     },
     "execution_count": 5,
     "metadata": {},
     "output_type": "execute_result"
    }
   ],
   "source": [
    "# After running the above, load the pickled results into a data frame:\n",
    "df = load_pickles_to_dataframe(output_dir)\n",
    "\n",
    "# Compares to expected shape\n",
    "df.shape == (303567, 7)"
   ]
  }
 ],
 "metadata": {
  "kernelspec": {
   "display_name": "base",
   "language": "python",
   "name": "python3"
  },
  "language_info": {
   "codemirror_mode": {
    "name": "ipython",
    "version": 3
   },
   "file_extension": ".py",
   "mimetype": "text/x-python",
   "name": "python",
   "nbconvert_exporter": "python",
   "pygments_lexer": "ipython3",
   "version": "3.12.7"
  }
 },
 "nbformat": 4,
 "nbformat_minor": 2
}
