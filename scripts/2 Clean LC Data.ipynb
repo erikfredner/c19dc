{
 "cells": [
  {
   "cell_type": "markdown",
   "metadata": {},
   "source": [
    "# Cleaning C19 American literature records from LC MDS books data\n",
    "\n",
    "- This notebook continues from the previous notebook.\n",
    "- The overarching purpose of the cleaning steps undertaken here are to **normalize places of publication** for long nineteenth century works of US literature.\n",
    "- Extract the `PS` range for American literature\n",
    "  - See the [LC Classification Outline](https://www.loc.gov/aba/cataloging/classification/lcco/) for information about specific ranges\n",
    "- Filter `PS` range for American literature (`PS` includes Canadian lit, too)\n",
    "- Get publication years and `PS` lead digits as integers for sorting\n",
    "- Clean places of publication"
   ]
  },
  {
   "cell_type": "code",
   "execution_count": 1,
   "metadata": {},
   "outputs": [],
   "source": [
    "%load_ext autoreload\n",
    "%autoreload 2\n",
    "\n",
    "import sys\n",
    "\n",
    "sys.path.append(\"../src\")\n",
    "\n",
    "from data_collection import *\n",
    "from data_cleaning import *"
   ]
  },
  {
   "cell_type": "code",
   "execution_count": 2,
   "metadata": {},
   "outputs": [
    {
     "data": {
      "text/plain": [
       "True"
      ]
     },
     "execution_count": 2,
     "metadata": {},
     "output_type": "execute_result"
    }
   ],
   "source": [
    "# change to your local path based on the output of the previous notebook:\n",
    "output_dir = \"/Users/erik/Desktop/LC_PS\"\n",
    "\n",
    "df = load_pickles_to_dataframe(output_dir)\n",
    "\n",
    "# Confirm expected shape\n",
    "df.shape == (303567, 7)"
   ]
  },
  {
   "cell_type": "code",
   "execution_count": 3,
   "metadata": {},
   "outputs": [],
   "source": [
    "df[\"ps_digits\"] = df[\"classifications\"].apply(\n",
    "    lambda x: [get_ps_digits(y) for y in x if \"PS\" in y][0]\n",
    ")"
   ]
  },
  {
   "cell_type": "code",
   "execution_count": 4,
   "metadata": {},
   "outputs": [],
   "source": [
    "# PS(8001-8599) == Canadian literature\n",
    "df[\"is_canadian\"] = df[\"ps_digits\"] > 8000"
   ]
  },
  {
   "cell_type": "code",
   "execution_count": 5,
   "metadata": {},
   "outputs": [],
   "source": [
    "# Drop Canadian records\n",
    "df = df[~df[\"is_canadian\"]]"
   ]
  },
  {
   "cell_type": "code",
   "execution_count": 6,
   "metadata": {},
   "outputs": [],
   "source": [
    "df[\"year_int\"] = df[\"year\"].apply(get_years_ints)"
   ]
  },
  {
   "cell_type": "code",
   "execution_count": 7,
   "metadata": {},
   "outputs": [],
   "source": [
    "df[\"publisher_year_int\"] = df[\"publishers\"].apply(get_publishers_year_ints)"
   ]
  },
  {
   "cell_type": "code",
   "execution_count": 8,
   "metadata": {},
   "outputs": [],
   "source": [
    "# combine_first integers from publishers and year columns\n",
    "df[\"year_publisher_int\"] = df[\"year_int\"].combine_first(df[\"publisher_year_int\"])"
   ]
  },
  {
   "cell_type": "code",
   "execution_count": 9,
   "metadata": {},
   "outputs": [],
   "source": [
    "df[\"min_year\"] = df.apply(get_min_year, axis=1)"
   ]
  },
  {
   "cell_type": "code",
   "execution_count": 10,
   "metadata": {},
   "outputs": [],
   "source": [
    "# Fill missing values with min year 0\n",
    "df[\"min_year\"] = df[\"min_year\"].fillna(0).astype(int)"
   ]
  },
  {
   "cell_type": "code",
   "execution_count": 11,
   "metadata": {},
   "outputs": [],
   "source": [
    "df[\"places_clean\"] = df[\"places\"].apply(lambda x: [clean_string(s) for s in x])"
   ]
  },
  {
   "cell_type": "code",
   "execution_count": 12,
   "metadata": {},
   "outputs": [],
   "source": [
    "df[\"places_clean\"] = df[\"places_clean\"].apply(flatten_list)"
   ]
  },
  {
   "cell_type": "code",
   "execution_count": 13,
   "metadata": {},
   "outputs": [],
   "source": [
    "cols = [\"lccn\", \"classifications\", \"year\", \"places\", \"publishers\"]\n",
    "\n",
    "for col in cols:\n",
    "    df[col] = clean_col(df, col)"
   ]
  },
  {
   "cell_type": "code",
   "execution_count": 14,
   "metadata": {},
   "outputs": [],
   "source": [
    "df[\"decade\"] = df[\"min_year\"].apply(get_decade)"
   ]
  },
  {
   "cell_type": "code",
   "execution_count": 15,
   "metadata": {},
   "outputs": [],
   "source": [
    "# add boolean for if places is list with length > 1\n",
    "df[\"multiple_places\"] = df[\"places_clean\"].apply(lambda x: len(x) > 1)"
   ]
  },
  {
   "cell_type": "code",
   "execution_count": 16,
   "metadata": {},
   "outputs": [],
   "source": [
    "df_exploded = df.explode(\"places_clean\")"
   ]
  },
  {
   "cell_type": "code",
   "execution_count": 17,
   "metadata": {},
   "outputs": [],
   "source": [
    "df_exploded[\"target_city\"] = df_exploded[\"places_clean\"].apply(get_target_cities)"
   ]
  },
  {
   "cell_type": "code",
   "execution_count": 18,
   "metadata": {},
   "outputs": [],
   "source": [
    "df_exploded = df_exploded.explode(\"target_city\")"
   ]
  },
  {
   "cell_type": "code",
   "execution_count": 22,
   "metadata": {},
   "outputs": [],
   "source": [
    "# Create the data set\n",
    "df_c19 = df_exploded.copy()\n",
    "df_c19 = df_c19[\n",
    "    [\n",
    "        \"lccn\",\n",
    "        \"classifications\",\n",
    "        \"ps_digits\",\n",
    "        \"first_author\",\n",
    "        \"title\",\n",
    "        \"publishers\",\n",
    "        \"min_year\",\n",
    "        \"places\",\n",
    "        \"multiple_places\",\n",
    "        \"target_city\",\n",
    "    ]\n",
    "]\n",
    "df_c19 = df_c19[(df_c19[\"min_year\"] <= 1945) & (df_c19[\"min_year\"] >= 1600)]\n",
    "df_c19.sort_values(\"ps_digits\", inplace=True)\n",
    "df_c19.to_csv(\"../data/data.csv\", index=False)"
   ]
  }
 ],
 "metadata": {
  "kernelspec": {
   "display_name": "c19dc",
   "language": "python",
   "name": "python3"
  },
  "language_info": {
   "codemirror_mode": {
    "name": "ipython",
    "version": 3
   },
   "file_extension": ".py",
   "mimetype": "text/x-python",
   "name": "python",
   "nbconvert_exporter": "python",
   "pygments_lexer": "ipython3",
   "version": "3.12.7"
  }
 },
 "nbformat": 4,
 "nbformat_minor": 2
}
